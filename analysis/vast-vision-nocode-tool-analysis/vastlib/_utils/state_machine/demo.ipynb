{
 "cells": [
  {
   "cell_type": "markdown",
   "metadata": {},
   "source": [
    "# 基本的な使い方"
   ]
  },
  {
   "cell_type": "code",
   "execution_count": 1,
   "metadata": {},
   "outputs": [
    {
     "name": "stdout",
     "output_type": "stream",
     "text": [
      "TO_IDLING : BOOT => IDLING\n",
      "TO_INSPECT : IDLING => INSPECTION\n",
      "EXCEPTION : INSPECTION => ERROR\n",
      "RESET : ERROR => BOOT\n"
     ]
    },
    {
     "data": {
      "text/plain": [
       "True"
      ]
     },
     "execution_count": 1,
     "metadata": {},
     "output_type": "execute_result"
    }
   ],
   "source": [
    "# state_machine.pyからStateMachineをimport\n",
    "from state_machine import StateMachine\n",
    "\n",
    "# 遷移を記述したcsvを用意 \n",
    "transition_csv = r\"./transition_demo.csv\"\n",
    "\"\"\"\n",
    "遷移を記述したcsvの作り方。\n",
    "Step1:状態遷移図を作る。\n",
    "Step2:状態遷移図を元に状態遷移を記したcsvを作成する。\n",
    "ヘッダーを「Source,Destination,Trigger」としたcsvを用意。\n",
    "Sourceは遷移元、Destinationは遷移先、Triggerはこの遷移のトリガー名(実行するためのキーワード)\n",
    "状態遷移図の遷移(矢印)をせっせとデータ化する。\n",
    "\"\"\"\n",
    "\n",
    "# 状態遷移を司るステートマシンを作成。\n",
    "# transitionライブラリで作るステートマシンは非常に多機能で、同じ動作でも複数のコーディング方法があったり\n",
    "# transitionの仕様の把握が必要な暗黙的な処理が多いので、作り込むと複雑すぎてメンテも大変だし可読性も下がる。\n",
    "# このライブラリはシンプルに状態遷移の機能と作成したステートマシンの図示や挙動確認だけを提供する。\n",
    "stmach = StateMachine(transition_csv=transition_csv, initial_state=\"BOOT\",\n",
    "                      use_graph=True, show_transition=True)\n",
    "\"\"\" StateMachineの引数は以下\n",
    "transition_csv:先述の遷移を記述したcsv\n",
    "initial_state:状態遷移の初期状態(string型)\n",
    "use_graph:図示系の機能を使用するかどうか。使うと動作が遅くなるらしいので、デバッグ用に。\n",
    "          動作にはgraphvizのセットアップが必要。詳細は元リポジトリで\n",
    "          https://github.com/pytransitions/transitions\n",
    "show_transition:実行した遷移をprint表示するかどうか\n",
    "\"\"\"\n",
    "# ステートマシンで定義した状態遷移を図示\n",
    "stmach.view_state_transition()\n",
    "\n",
    "# 状態の遷移はステートマシンのtriggerで実行する。\n",
    "# 引数に実行したい遷移のトリガー名を入れる。\n",
    "stmach.trigger(\"TO_IDLING\")  # TO_IDLINGトリガーで定義された状態遷移を実行\n",
    "stmach.trigger(\"TO_INSPECT\")  # TO_INSPECTトリガーで定義された状態遷移を実行\n",
    "stmach.trigger(\"EXCEPTION\")  # EXCEPTIONトリガーで定義された状態遷移を実行\n",
    "stmach.trigger(\"RESET\")  # RESETトリガーで定義された状態遷移を実行\n",
    "# 上記はBOOT => IDLING => INSPECTION => ERROR => BOOTの遷移になる。\n",
    "\n",
    "# おわり"
   ]
  },
  {
   "cell_type": "markdown",
   "metadata": {},
   "source": [
    "# ステートマシンの状態をグラフィカルに観察したい！"
   ]
  },
  {
   "cell_type": "code",
   "execution_count": null,
   "metadata": {},
   "outputs": [],
   "source": [
    "from state_machine import StateMachine\n",
    "import time\n",
    "\n",
    "transition_csv = r\"./transition_demo.csv\"\n",
    "stmach = StateMachine(transition_csv, initial_state=\"BOOT\", use_graph=True, show_transition=False)\n",
    "\n",
    "# BOOT => IDLING => INSPECTION => ERROR => BOOTの遷移を永久に回る。\n",
    "trigger_set = [\"TO_IDLING\", \"TO_INSPECT\", \"EXCEPTION\", \"RESET\"]\n",
    "while(1):\n",
    "    for trig in trigger_set:\n",
    "        stmach.trigger(trig)\n",
    "        stmach.save_state_transition_pngimg(\"state_transition\")\n",
    "        time.sleep(1)\n",
    "        \n",
    "\"\"\"\n",
    "出力した状態遷移図は現状態や遷移も図示される。\n",
    "VSCODEでstate_transition.pngを開くと、1秒ごとに遷移が進んでいくので楽しい。\n",
    "動画として保存したいときは、タイムスタンプを画像名として遷移毎に保存していって\n",
    "cv2でも使って動画にすればいいと思います。\n",
    "\"\"\"\n"
   ]
  },
  {
   "cell_type": "markdown",
   "metadata": {},
   "source": [
    "# 定義外のトリガーの挙動"
   ]
  },
  {
   "cell_type": "code",
   "execution_count": null,
   "metadata": {},
   "outputs": [],
   "source": [
    "from state_machine import StateMachine\n",
    "import time\n",
    "\n",
    "\"\"\"\n",
    "遷移csvに記述されていない定義外の遷移トリガを実行すると、例外が発生してしまいます。\n",
    "誤命令で例外としてソフトウェアが終了するのが不都合な場合がありますので\n",
    "その場合は定義外のトリガーかどうかを事前に確認する処理が有効です。\n",
    "\"\"\"\n",
    "\n",
    "# ステートマシンを定義\n",
    "transition_csv = r\"./transition_demo.csv\"\n",
    "stmach = StateMachine(transition_csv, initial_state=\"BOOT\", use_graph=True, show_transition=True)\n",
    "\n",
    "# 定義外のトリガーの例として\n",
    "# MAINTENANCE状態には遷移しないINSPECTION状態にTO_MAINTEトリガを入れる。\n",
    "trigger_set = [\"TO_IDLING\", \"TO_INSPECT\", \"TO_MAINTE\", \"EXCEPTION\", \"RESET\"]\n",
    "for trig in trigger_set:\n",
    "    if stmach.is_valid_transition(trig): #現状態とトリガーの組み合わせが正しいかどうか\n",
    "        stmach.trigger(trig)\n",
    "    else:\n",
    "        print(\"状態%sにトリガ%sによる遷移は定義されていません。\"%(stmach.state,trig))\n",
    "        \"\"\"\n",
    "        実際の用途として、ここにエラー状態への遷移などを追記してもいいと思います。\n",
    "        transitionライブラリの仕様上,定義した遷移先を同トリガ内で、別の遷移先に変更する実装は難しいです。\n",
    "        遷移した後に、更に別状態に遷移するようなコールバックを仕込むことはできますが\n",
    "        最初に指定した遷移後に別状態に遷移することになるので、個人的には好きではないです。\n",
    "        設計の状態遷移図と挙動が違うことになるので。\n",
    "        また、コールバックの優先順位やらガード判定やらややこしくなるので。これらの特別な処理を標準とはしません。\n",
    "        \"\"\"\n"
   ]
  },
  {
   "cell_type": "code",
   "execution_count": null,
   "metadata": {},
   "outputs": [],
   "source": []
  }
 ],
 "metadata": {
  "kernelspec": {
   "display_name": "Python 3",
   "language": "python",
   "name": "python3"
  },
  "language_info": {
   "codemirror_mode": {
    "name": "ipython",
    "version": 3
   },
   "file_extension": ".py",
   "mimetype": "text/x-python",
   "name": "python",
   "nbconvert_exporter": "python",
   "pygments_lexer": "ipython3",
   "version": "3.8.6"
  },
  "orig_nbformat": 4,
  "vscode": {
   "interpreter": {
    "hash": "9650cb4e16cdd4a8e8e2d128bf38d875813998db22a3c986335f89e0cb4d7bb2"
   }
  }
 },
 "nbformat": 4,
 "nbformat_minor": 2
}
